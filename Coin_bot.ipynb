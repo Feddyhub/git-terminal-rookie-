{
 "cells": [
  {
   "cell_type": "code",
   "execution_count": 7,
   "id": "5dbbdb82-b737-4bc7-b36d-b70849bf4dbd",
   "metadata": {},
   "outputs": [
    {
     "name": "stdout",
     "output_type": "stream",
     "text": [
      "Collecting python-telegram-bot\n",
      "  Downloading python_telegram_bot-21.11.1-py3-none-any.whl.metadata (17 kB)\n",
      "Requirement already satisfied: requests in c:\\users\\feddy\\anaconda3\\lib\\site-packages (2.32.3)\n",
      "Requirement already satisfied: httpx~=0.27 in c:\\users\\feddy\\anaconda3\\lib\\site-packages (from python-telegram-bot) (0.27.0)\n",
      "Requirement already satisfied: charset-normalizer<4,>=2 in c:\\users\\feddy\\anaconda3\\lib\\site-packages (from requests) (3.3.2)\n",
      "Requirement already satisfied: idna<4,>=2.5 in c:\\users\\feddy\\anaconda3\\lib\\site-packages (from requests) (3.7)\n",
      "Requirement already satisfied: urllib3<3,>=1.21.1 in c:\\users\\feddy\\anaconda3\\lib\\site-packages (from requests) (2.2.3)\n",
      "Requirement already satisfied: certifi>=2017.4.17 in c:\\users\\feddy\\anaconda3\\lib\\site-packages (from requests) (2025.1.31)\n",
      "Requirement already satisfied: anyio in c:\\users\\feddy\\anaconda3\\lib\\site-packages (from httpx~=0.27->python-telegram-bot) (4.2.0)\n",
      "Requirement already satisfied: httpcore==1.* in c:\\users\\feddy\\anaconda3\\lib\\site-packages (from httpx~=0.27->python-telegram-bot) (1.0.2)\n",
      "Requirement already satisfied: sniffio in c:\\users\\feddy\\anaconda3\\lib\\site-packages (from httpx~=0.27->python-telegram-bot) (1.3.0)\n",
      "Requirement already satisfied: h11<0.15,>=0.13 in c:\\users\\feddy\\anaconda3\\lib\\site-packages (from httpcore==1.*->httpx~=0.27->python-telegram-bot) (0.14.0)\n",
      "Downloading python_telegram_bot-21.11.1-py3-none-any.whl (676 kB)\n",
      "   ---------------------------------------- 0.0/676.1 kB ? eta -:--:--\n",
      "   --------------- ------------------------ 262.1/676.1 kB ? eta -:--:--\n",
      "   ---------------------------------------- 676.1/676.1 kB 4.4 MB/s eta 0:00:00\n",
      "Installing collected packages: python-telegram-bot\n",
      "Successfully installed python-telegram-bot-21.11.1\n",
      "Note: you may need to restart the kernel to use updated packages.\n"
     ]
    }
   ],
   "source": [
    "pip install python-telegram-bot requests\n"
   ]
  },
  {
   "cell_type": "code",
   "execution_count": 1,
   "id": "196deb3a-b41f-43ca-b64c-0fefce67b845",
   "metadata": {},
   "outputs": [
    {
     "name": "stdout",
     "output_type": "stream",
     "text": [
      "Her şey başarıyla yüklendi!\n"
     ]
    }
   ],
   "source": [
    "import requests\n",
    "from telegram import Update\n",
    "from telegram.ext import Updater, CommandHandler, CallbackContext\n",
    "\n",
    "print(\"Her şey başarıyla yüklendi!\")\n"
   ]
  },
  {
   "cell_type": "code",
   "execution_count": 15,
   "id": "5465e44d-34b3-465c-9930-dc01f7db5713",
   "metadata": {
    "scrolled": true
   },
   "outputs": [
    {
     "ename": "RuntimeError",
     "evalue": "Cannot close a running event loop",
     "output_type": "error",
     "traceback": [
      "\u001b[1;31m---------------------------------------------------------------------------\u001b[0m",
      "\u001b[1;31mRuntimeError\u001b[0m                              Traceback (most recent call last)",
      "File \u001b[1;32m~\\anaconda3\\Lib\\site-packages\\telegram\\ext\\_application.py:1087\u001b[0m, in \u001b[0;36mApplication.__run\u001b[1;34m(self, updater_coroutine, stop_signals, bootstrap_retries, close_loop)\u001b[0m\n\u001b[0;32m   1086\u001b[0m \u001b[38;5;28;01mtry\u001b[39;00m:\n\u001b[1;32m-> 1087\u001b[0m     loop\u001b[38;5;241m.\u001b[39mrun_until_complete(\u001b[38;5;28mself\u001b[39m\u001b[38;5;241m.\u001b[39m_bootstrap_initialize(max_retries\u001b[38;5;241m=\u001b[39mbootstrap_retries))\n\u001b[0;32m   1088\u001b[0m     \u001b[38;5;28;01mif\u001b[39;00m \u001b[38;5;28mself\u001b[39m\u001b[38;5;241m.\u001b[39mpost_init:\n",
      "File \u001b[1;32m~\\anaconda3\\Lib\\asyncio\\base_events.py:663\u001b[0m, in \u001b[0;36mBaseEventLoop.run_until_complete\u001b[1;34m(self, future)\u001b[0m\n\u001b[0;32m    662\u001b[0m \u001b[38;5;28mself\u001b[39m\u001b[38;5;241m.\u001b[39m_check_closed()\n\u001b[1;32m--> 663\u001b[0m \u001b[38;5;28mself\u001b[39m\u001b[38;5;241m.\u001b[39m_check_running()\n\u001b[0;32m    665\u001b[0m new_task \u001b[38;5;241m=\u001b[39m \u001b[38;5;129;01mnot\u001b[39;00m futures\u001b[38;5;241m.\u001b[39misfuture(future)\n",
      "File \u001b[1;32m~\\anaconda3\\Lib\\asyncio\\base_events.py:622\u001b[0m, in \u001b[0;36mBaseEventLoop._check_running\u001b[1;34m(self)\u001b[0m\n\u001b[0;32m    621\u001b[0m \u001b[38;5;28;01mif\u001b[39;00m \u001b[38;5;28mself\u001b[39m\u001b[38;5;241m.\u001b[39mis_running():\n\u001b[1;32m--> 622\u001b[0m     \u001b[38;5;28;01mraise\u001b[39;00m \u001b[38;5;167;01mRuntimeError\u001b[39;00m(\u001b[38;5;124m'\u001b[39m\u001b[38;5;124mThis event loop is already running\u001b[39m\u001b[38;5;124m'\u001b[39m)\n\u001b[0;32m    623\u001b[0m \u001b[38;5;28;01mif\u001b[39;00m events\u001b[38;5;241m.\u001b[39m_get_running_loop() \u001b[38;5;129;01mis\u001b[39;00m \u001b[38;5;129;01mnot\u001b[39;00m \u001b[38;5;28;01mNone\u001b[39;00m:\n",
      "\u001b[1;31mRuntimeError\u001b[0m: This event loop is already running",
      "\nDuring handling of the above exception, another exception occurred:\n",
      "\u001b[1;31mRuntimeError\u001b[0m                              Traceback (most recent call last)",
      "File \u001b[1;32m~\\anaconda3\\Lib\\site-packages\\telegram\\ext\\_application.py:1112\u001b[0m, in \u001b[0;36mApplication.__run\u001b[1;34m(self, updater_coroutine, stop_signals, bootstrap_retries, close_loop)\u001b[0m\n\u001b[0;32m   1111\u001b[0m         loop\u001b[38;5;241m.\u001b[39mrun_until_complete(\u001b[38;5;28mself\u001b[39m\u001b[38;5;241m.\u001b[39mpost_stop(\u001b[38;5;28mself\u001b[39m))\n\u001b[1;32m-> 1112\u001b[0m loop\u001b[38;5;241m.\u001b[39mrun_until_complete(\u001b[38;5;28mself\u001b[39m\u001b[38;5;241m.\u001b[39mshutdown())\n\u001b[0;32m   1113\u001b[0m \u001b[38;5;28;01mif\u001b[39;00m \u001b[38;5;28mself\u001b[39m\u001b[38;5;241m.\u001b[39mpost_shutdown:\n",
      "File \u001b[1;32m~\\anaconda3\\Lib\\asyncio\\base_events.py:663\u001b[0m, in \u001b[0;36mBaseEventLoop.run_until_complete\u001b[1;34m(self, future)\u001b[0m\n\u001b[0;32m    662\u001b[0m \u001b[38;5;28mself\u001b[39m\u001b[38;5;241m.\u001b[39m_check_closed()\n\u001b[1;32m--> 663\u001b[0m \u001b[38;5;28mself\u001b[39m\u001b[38;5;241m.\u001b[39m_check_running()\n\u001b[0;32m    665\u001b[0m new_task \u001b[38;5;241m=\u001b[39m \u001b[38;5;129;01mnot\u001b[39;00m futures\u001b[38;5;241m.\u001b[39misfuture(future)\n",
      "File \u001b[1;32m~\\anaconda3\\Lib\\asyncio\\base_events.py:622\u001b[0m, in \u001b[0;36mBaseEventLoop._check_running\u001b[1;34m(self)\u001b[0m\n\u001b[0;32m    621\u001b[0m \u001b[38;5;28;01mif\u001b[39;00m \u001b[38;5;28mself\u001b[39m\u001b[38;5;241m.\u001b[39mis_running():\n\u001b[1;32m--> 622\u001b[0m     \u001b[38;5;28;01mraise\u001b[39;00m \u001b[38;5;167;01mRuntimeError\u001b[39;00m(\u001b[38;5;124m'\u001b[39m\u001b[38;5;124mThis event loop is already running\u001b[39m\u001b[38;5;124m'\u001b[39m)\n\u001b[0;32m    623\u001b[0m \u001b[38;5;28;01mif\u001b[39;00m events\u001b[38;5;241m.\u001b[39m_get_running_loop() \u001b[38;5;129;01mis\u001b[39;00m \u001b[38;5;129;01mnot\u001b[39;00m \u001b[38;5;28;01mNone\u001b[39;00m:\n",
      "\u001b[1;31mRuntimeError\u001b[0m: This event loop is already running",
      "\nDuring handling of the above exception, another exception occurred:\n",
      "\u001b[1;31mRuntimeError\u001b[0m                              Traceback (most recent call last)",
      "Cell \u001b[1;32mIn[15], line 44\u001b[0m\n\u001b[0;32m     41\u001b[0m     app\u001b[38;5;241m.\u001b[39mrun_polling()\n\u001b[0;32m     43\u001b[0m \u001b[38;5;28;01mif\u001b[39;00m \u001b[38;5;18m__name__\u001b[39m \u001b[38;5;241m==\u001b[39m \u001b[38;5;124m'\u001b[39m\u001b[38;5;124m__main__\u001b[39m\u001b[38;5;124m'\u001b[39m:\n\u001b[1;32m---> 44\u001b[0m     main()\n\u001b[0;32m     45\u001b[0m app \u001b[38;5;241m=\u001b[39m Application\u001b[38;5;241m.\u001b[39mbuilder()\u001b[38;5;241m.\u001b[39mtoken(TOKEN)\u001b[38;5;241m.\u001b[39mbuild()\n\u001b[0;32m     46\u001b[0m app\u001b[38;5;241m.\u001b[39madd_handler(CommandHandler(\u001b[38;5;124m\"\u001b[39m\u001b[38;5;124mstart\u001b[39m\u001b[38;5;124m\"\u001b[39m, start))\n",
      "Cell \u001b[1;32mIn[15], line 41\u001b[0m, in \u001b[0;36mmain\u001b[1;34m()\u001b[0m\n\u001b[0;32m     38\u001b[0m app\u001b[38;5;241m.\u001b[39madd_handler(CommandHandler(\u001b[38;5;124m\"\u001b[39m\u001b[38;5;124mstart\u001b[39m\u001b[38;5;124m\"\u001b[39m, start))\n\u001b[0;32m     39\u001b[0m app\u001b[38;5;241m.\u001b[39madd_handler(CommandHandler(\u001b[38;5;124m\"\u001b[39m\u001b[38;5;124mprice\u001b[39m\u001b[38;5;124m\"\u001b[39m, get_crypto_price))\n\u001b[1;32m---> 41\u001b[0m app\u001b[38;5;241m.\u001b[39mrun_polling()\n",
      "File \u001b[1;32m~\\anaconda3\\Lib\\site-packages\\telegram\\ext\\_application.py:873\u001b[0m, in \u001b[0;36mApplication.run_polling\u001b[1;34m(self, poll_interval, timeout, bootstrap_retries, read_timeout, write_timeout, connect_timeout, pool_timeout, allowed_updates, drop_pending_updates, close_loop, stop_signals)\u001b[0m\n\u001b[0;32m    870\u001b[0m \u001b[38;5;28;01mdef\u001b[39;00m \u001b[38;5;21merror_callback\u001b[39m(exc: TelegramError) \u001b[38;5;241m-\u001b[39m\u001b[38;5;241m>\u001b[39m \u001b[38;5;28;01mNone\u001b[39;00m:\n\u001b[0;32m    871\u001b[0m     \u001b[38;5;28mself\u001b[39m\u001b[38;5;241m.\u001b[39mcreate_task(\u001b[38;5;28mself\u001b[39m\u001b[38;5;241m.\u001b[39mprocess_error(error\u001b[38;5;241m=\u001b[39mexc, update\u001b[38;5;241m=\u001b[39m\u001b[38;5;28;01mNone\u001b[39;00m))\n\u001b[1;32m--> 873\u001b[0m \u001b[38;5;28;01mreturn\u001b[39;00m \u001b[38;5;28mself\u001b[39m\u001b[38;5;241m.\u001b[39m__run(\n\u001b[0;32m    874\u001b[0m     updater_coroutine\u001b[38;5;241m=\u001b[39m\u001b[38;5;28mself\u001b[39m\u001b[38;5;241m.\u001b[39mupdater\u001b[38;5;241m.\u001b[39mstart_polling(\n\u001b[0;32m    875\u001b[0m         poll_interval\u001b[38;5;241m=\u001b[39mpoll_interval,\n\u001b[0;32m    876\u001b[0m         timeout\u001b[38;5;241m=\u001b[39mtimeout,\n\u001b[0;32m    877\u001b[0m         bootstrap_retries\u001b[38;5;241m=\u001b[39mbootstrap_retries,\n\u001b[0;32m    878\u001b[0m         read_timeout\u001b[38;5;241m=\u001b[39mread_timeout,\n\u001b[0;32m    879\u001b[0m         write_timeout\u001b[38;5;241m=\u001b[39mwrite_timeout,\n\u001b[0;32m    880\u001b[0m         connect_timeout\u001b[38;5;241m=\u001b[39mconnect_timeout,\n\u001b[0;32m    881\u001b[0m         pool_timeout\u001b[38;5;241m=\u001b[39mpool_timeout,\n\u001b[0;32m    882\u001b[0m         allowed_updates\u001b[38;5;241m=\u001b[39mallowed_updates,\n\u001b[0;32m    883\u001b[0m         drop_pending_updates\u001b[38;5;241m=\u001b[39mdrop_pending_updates,\n\u001b[0;32m    884\u001b[0m         error_callback\u001b[38;5;241m=\u001b[39merror_callback,  \u001b[38;5;66;03m# if there is an error in fetching updates\u001b[39;00m\n\u001b[0;32m    885\u001b[0m     ),\n\u001b[0;32m    886\u001b[0m     stop_signals\u001b[38;5;241m=\u001b[39mstop_signals,\n\u001b[0;32m    887\u001b[0m     bootstrap_retries\u001b[38;5;241m=\u001b[39mbootstrap_retries,\n\u001b[0;32m    888\u001b[0m     close_loop\u001b[38;5;241m=\u001b[39mclose_loop,\n\u001b[0;32m    889\u001b[0m )\n",
      "File \u001b[1;32m~\\anaconda3\\Lib\\site-packages\\telegram\\ext\\_application.py:1117\u001b[0m, in \u001b[0;36mApplication.__run\u001b[1;34m(self, updater_coroutine, stop_signals, bootstrap_retries, close_loop)\u001b[0m\n\u001b[0;32m   1115\u001b[0m \u001b[38;5;28;01mfinally\u001b[39;00m:\n\u001b[0;32m   1116\u001b[0m     \u001b[38;5;28;01mif\u001b[39;00m close_loop:\n\u001b[1;32m-> 1117\u001b[0m         loop\u001b[38;5;241m.\u001b[39mclose()\n",
      "File \u001b[1;32m~\\anaconda3\\Lib\\asyncio\\proactor_events.py:687\u001b[0m, in \u001b[0;36mBaseProactorEventLoop.close\u001b[1;34m(self)\u001b[0m\n\u001b[0;32m    685\u001b[0m \u001b[38;5;28;01mdef\u001b[39;00m \u001b[38;5;21mclose\u001b[39m(\u001b[38;5;28mself\u001b[39m):\n\u001b[0;32m    686\u001b[0m     \u001b[38;5;28;01mif\u001b[39;00m \u001b[38;5;28mself\u001b[39m\u001b[38;5;241m.\u001b[39mis_running():\n\u001b[1;32m--> 687\u001b[0m         \u001b[38;5;28;01mraise\u001b[39;00m \u001b[38;5;167;01mRuntimeError\u001b[39;00m(\u001b[38;5;124m\"\u001b[39m\u001b[38;5;124mCannot close a running event loop\u001b[39m\u001b[38;5;124m\"\u001b[39m)\n\u001b[0;32m    688\u001b[0m     \u001b[38;5;28;01mif\u001b[39;00m \u001b[38;5;28mself\u001b[39m\u001b[38;5;241m.\u001b[39mis_closed():\n\u001b[0;32m    689\u001b[0m         \u001b[38;5;28;01mreturn\u001b[39;00m\n",
      "\u001b[1;31mRuntimeError\u001b[0m: Cannot close a running event loop"
     ]
    }
   ],
   "source": [
    "import requests\n",
    "from telegram import Update\n",
    "from telegram.ext import Application, CommandHandler, CallbackContext\n",
    "\n",
    "# Telegram botunuzun token'ını buraya ekleyin\n",
    "TOKEN = \"7268436456:AAFXPpiYEAHN319bGrrMkzzYsysnst3i77M\"\n",
    "\n",
    "# CoinCap API endpoint'i\n",
    "API_URL = \"https://api.coincap.io/v2/assets\"\n",
    "\n",
    "async def start(update: Update, context: CallbackContext) -> None:\n",
    "    await update.message.reply_text('Merhaba! Ben kripto fiyat botuyum. Kullanabileceğiniz komutlar: /price <Kripto Para Kısa Adı>')\n",
    "\n",
    "async def get_crypto_price(update: Update, context: CallbackContext) -> None:\n",
    "    if not context.args:\n",
    "        await update.message.reply_text('Lütfen bir kripto para simgesi belirtin. Örneğin: /price BTC')\n",
    "        return\n",
    "\n",
    "    crypto_symbol = context.args[0].upper()\n",
    "    params = {\n",
    "        'search': crypto_symbol,\n",
    "    }\n",
    "\n",
    "    try:\n",
    "        response = requests.get(API_URL, params=params)\n",
    "        data = response.json()\n",
    "        if 'data' in data and data['data']:\n",
    "            price = data['data'][0]['priceUsd']\n",
    "            await update.message.reply_text(f'{crypto_symbol} fiyatı: ${price}')\n",
    "        else:\n",
    "            await update.message.reply_text(f'{crypto_symbol} için fiyat bilgisi bulunamadı.')\n",
    "    except Exception as e:\n",
    "        await update.message.reply_text(f'Hata: {e}')\n",
    "\n",
    "def main() -> None:\n",
    "    app = Application.builder().token(TOKEN).build()\n",
    "\n",
    "    app.add_handler(CommandHandler(\"start\", start))\n",
    "    app.add_handler(CommandHandler(\"price\", get_crypto_price))\n",
    "\n",
    "    app.run_polling()\n",
    "\n",
    "if __name__ == '__main__':\n",
    "    main()\n"
   ]
  },
  {
   "cell_type": "code",
   "execution_count": 11,
   "id": "7c8ac88c-dd44-47cb-baf0-21c0df3ed262",
   "metadata": {},
   "outputs": [
    {
     "name": "stdout",
     "output_type": "stream",
     "text": [
      "Name: python-telegram-bot\n",
      "Version: 21.11.1\n",
      "Summary: We have made you a wrapper you can't refuse\n",
      "Home-page: https://python-telegram-bot.org\n",
      "Author: \n",
      "Author-email: Leandro Toledo <devs@python-telegram-bot.org>\n",
      "License: \n",
      "Location: C:\\Users\\Feddy\\anaconda3\\Lib\\site-packages\n",
      "Requires: httpx\n",
      "Required-by: \n",
      "Note: you may need to restart the kernel to use updated packages.\n"
     ]
    }
   ],
   "source": [
    "pip show python-telegram-bot\n"
   ]
  }
 ],
 "metadata": {
  "kernelspec": {
   "display_name": "Python [conda env:base] *",
   "language": "python",
   "name": "conda-base-py"
  },
  "language_info": {
   "codemirror_mode": {
    "name": "ipython",
    "version": 3
   },
   "file_extension": ".py",
   "mimetype": "text/x-python",
   "name": "python",
   "nbconvert_exporter": "python",
   "pygments_lexer": "ipython3",
   "version": "3.12.7"
  }
 },
 "nbformat": 4,
 "nbformat_minor": 5
}
