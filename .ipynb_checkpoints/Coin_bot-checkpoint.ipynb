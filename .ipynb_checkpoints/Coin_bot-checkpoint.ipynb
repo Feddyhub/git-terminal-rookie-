{
 "cells": [
  {
   "cell_type": "code",
   "execution_count": 21,
   "id": "9afb7ea7-d9ec-404e-a88d-6aeabf60b3d4",
   "metadata": {
    "scrolled": true
   },
   "outputs": [
    {
     "name": "stdout",
     "output_type": "stream",
     "text": [
      "Collecting Update\n",
      "  Using cached update-0.0.1-py2.py3-none-any.whl.metadata (696 bytes)\n",
      "Collecting style==1.1.0 (from Update)\n",
      "  Downloading style-1.1.0-py2.py3-none-any.whl.metadata (2.8 kB)\n",
      "Downloading update-0.0.1-py2.py3-none-any.whl (2.9 kB)\n",
      "Downloading style-1.1.0-py2.py3-none-any.whl (6.4 kB)\n",
      "Installing collected packages: style, Update\n",
      "Successfully installed Update-0.0.1 style-1.1.0\n"
     ]
    }
   ],
   "source": [
    "!pip install Update "
   ]
  },
  {
   "cell_type": "code",
   "execution_count": 7,
   "id": "5dbbdb82-b737-4bc7-b36d-b70849bf4dbd",
   "metadata": {},
   "outputs": [
    {
     "name": "stdout",
     "output_type": "stream",
     "text": [
      "Collecting python-telegram-bot\n",
      "  Downloading python_telegram_bot-21.11.1-py3-none-any.whl.metadata (17 kB)\n",
      "Requirement already satisfied: requests in c:\\users\\feddy\\anaconda3\\lib\\site-packages (2.32.3)\n",
      "Requirement already satisfied: httpx~=0.27 in c:\\users\\feddy\\anaconda3\\lib\\site-packages (from python-telegram-bot) (0.27.0)\n",
      "Requirement already satisfied: charset-normalizer<4,>=2 in c:\\users\\feddy\\anaconda3\\lib\\site-packages (from requests) (3.3.2)\n",
      "Requirement already satisfied: idna<4,>=2.5 in c:\\users\\feddy\\anaconda3\\lib\\site-packages (from requests) (3.7)\n",
      "Requirement already satisfied: urllib3<3,>=1.21.1 in c:\\users\\feddy\\anaconda3\\lib\\site-packages (from requests) (2.2.3)\n",
      "Requirement already satisfied: certifi>=2017.4.17 in c:\\users\\feddy\\anaconda3\\lib\\site-packages (from requests) (2025.1.31)\n",
      "Requirement already satisfied: anyio in c:\\users\\feddy\\anaconda3\\lib\\site-packages (from httpx~=0.27->python-telegram-bot) (4.2.0)\n",
      "Requirement already satisfied: httpcore==1.* in c:\\users\\feddy\\anaconda3\\lib\\site-packages (from httpx~=0.27->python-telegram-bot) (1.0.2)\n",
      "Requirement already satisfied: sniffio in c:\\users\\feddy\\anaconda3\\lib\\site-packages (from httpx~=0.27->python-telegram-bot) (1.3.0)\n",
      "Requirement already satisfied: h11<0.15,>=0.13 in c:\\users\\feddy\\anaconda3\\lib\\site-packages (from httpcore==1.*->httpx~=0.27->python-telegram-bot) (0.14.0)\n",
      "Downloading python_telegram_bot-21.11.1-py3-none-any.whl (676 kB)\n",
      "   ---------------------------------------- 0.0/676.1 kB ? eta -:--:--\n",
      "   --------------- ------------------------ 262.1/676.1 kB ? eta -:--:--\n",
      "   ---------------------------------------- 676.1/676.1 kB 4.4 MB/s eta 0:00:00\n",
      "Installing collected packages: python-telegram-bot\n",
      "Successfully installed python-telegram-bot-21.11.1\n",
      "Note: you may need to restart the kernel to use updated packages.\n"
     ]
    }
   ],
   "source": [
    "pip install python-telegram-bot requests\n"
   ]
  },
  {
   "cell_type": "code",
   "execution_count": 9,
   "id": "196deb3a-b41f-43ca-b64c-0fefce67b845",
   "metadata": {},
   "outputs": [
    {
     "ename": "ImportError",
     "evalue": "cannot import name 'Update' from 'telegram' (C:\\Users\\Feddy\\anaconda3\\Lib\\site-packages\\telegram\\__init__.py)",
     "output_type": "error",
     "traceback": [
      "\u001b[1;31m---------------------------------------------------------------------------\u001b[0m",
      "\u001b[1;31mImportError\u001b[0m                               Traceback (most recent call last)",
      "Cell \u001b[1;32mIn[9], line 2\u001b[0m\n\u001b[0;32m      1\u001b[0m \u001b[38;5;28;01mimport\u001b[39;00m \u001b[38;5;21;01mrequests\u001b[39;00m\n\u001b[1;32m----> 2\u001b[0m \u001b[38;5;28;01mfrom\u001b[39;00m \u001b[38;5;21;01mtelegram\u001b[39;00m \u001b[38;5;28;01mimport\u001b[39;00m Update\n\u001b[0;32m      3\u001b[0m \u001b[38;5;28;01mfrom\u001b[39;00m \u001b[38;5;21;01mtelegram\u001b[39;00m\u001b[38;5;21;01m.\u001b[39;00m\u001b[38;5;21;01mext\u001b[39;00m \u001b[38;5;28;01mimport\u001b[39;00m Updater, CommandHandler, CallbackContext\n\u001b[0;32m      5\u001b[0m \u001b[38;5;28mprint\u001b[39m(\u001b[38;5;124m\"\u001b[39m\u001b[38;5;124mHer şey başarıyla yüklendi!\u001b[39m\u001b[38;5;124m\"\u001b[39m)\n",
      "\u001b[1;31mImportError\u001b[0m: cannot import name 'Update' from 'telegram' (C:\\Users\\Feddy\\anaconda3\\Lib\\site-packages\\telegram\\__init__.py)"
     ]
    }
   ],
   "source": [
    "import requests\n",
    "from telegram import Update\n",
    "from telegram.ext import Updater, CommandHandler, CallbackContext\n",
    "\n",
    "print(\"Her şey başarıyla yüklendi!\")\n"
   ]
  },
  {
   "cell_type": "code",
   "execution_count": 23,
   "id": "c628a365-600c-43c3-b5a2-293c25fb3178",
   "metadata": {},
   "outputs": [
    {
     "ename": "ImportError",
     "evalue": "cannot import name 'Update' from 'telegram' (C:\\Users\\Feddy\\anaconda3\\Lib\\site-packages\\telegram\\__init__.py)",
     "output_type": "error",
     "traceback": [
      "\u001b[1;31m---------------------------------------------------------------------------\u001b[0m",
      "\u001b[1;31mImportError\u001b[0m                               Traceback (most recent call last)",
      "Cell \u001b[1;32mIn[23], line 2\u001b[0m\n\u001b[0;32m      1\u001b[0m \u001b[38;5;28;01mimport\u001b[39;00m \u001b[38;5;21;01mrequests\u001b[39;00m\n\u001b[1;32m----> 2\u001b[0m \u001b[38;5;28;01mfrom\u001b[39;00m \u001b[38;5;21;01mtelegram\u001b[39;00m \u001b[38;5;28;01mimport\u001b[39;00m Update\n\u001b[0;32m      3\u001b[0m \u001b[38;5;28;01mfrom\u001b[39;00m \u001b[38;5;21;01mtelegram\u001b[39;00m\u001b[38;5;21;01m.\u001b[39;00m\u001b[38;5;21;01mext\u001b[39;00m \u001b[38;5;28;01mimport\u001b[39;00m Updater, CommandHandler, CallbackContext\n\u001b[0;32m      5\u001b[0m \u001b[38;5;66;03m# Telegram botunuzun token'ını buraya ekleyin\u001b[39;00m\n",
      "\u001b[1;31mImportError\u001b[0m: cannot import name 'Update' from 'telegram' (C:\\Users\\Feddy\\anaconda3\\Lib\\site-packages\\telegram\\__init__.py)"
     ]
    }
   ],
   "source": [
    "import requests\n",
    "from telegram import Update\n",
    "from telegram.ext import Updater, CommandHandler, CallbackContext\n",
    "\n",
    "# Telegram botunuzun token'ını buraya ekleyin\n",
    "TOKEN = \"7268436456:AAFXPpiYEAHN319bGrrMkzzYsysnst3i77M\"\n",
    "\n",
    "# CoinCap API endpoint'i\n",
    "API_URL = \"https://api.coincap.io/v2/assets\"\n",
    "\n",
    "def start(update: Update, context: CallbackContext) -> None:\n",
    "    update.message.reply_text('Merhaba! Ben kripto fiyat botuyum. Kullanabileceğiniz komutlar: /price  Kripto Para Kısa Adını yaz')\n",
    "\n",
    "def get_crypto_price(update: Update, context: CallbackContext) -> None:\n",
    "    if not context.args:\n",
    "        update.message.reply_text('Lütfen bir kripto para simgesi belirtin. Örneğin: /price BTC')\n",
    "        return\n",
    "\n",
    "    crypto_symbol = context.args[0].upper()\n",
    "    params = {\n",
    "        'search': crypto_symbol,\n",
    "    }\n",
    "\n",
    "    try:\n",
    "        response = requests.get(API_URL, params=params)\n",
    "        data = response.json()\n",
    "        if 'data' in data and data['data']:\n",
    "            price = data['data'][0]['priceUsd']\n",
    "            update.message.reply_text(f'{crypto_symbol} fiyatı: ${price}')\n",
    "        else:\n",
    "            update.message.reply_text(f'{crypto_symbol} için fiyat bilgisi bulunamadı.')\n",
    "    except Exception as e:\n",
    "        update.message.reply_text(f'Hata: {e}')\n",
    "\n",
    "def main() -> None:\n",
    "    updater = Updater(TOKEN, use_context=True)\n",
    "\n",
    "    dp = updater.dispatcher\n",
    "\n",
    "    dp.add_handler(CommandHandler(\"start\", start))\n",
    "    dp.add_handler(CommandHandler(\"price\", get_crypto_price))\n",
    "\n",
    "    updater.start_polling()\n",
    "\n",
    "    updater.idle()\n",
    "\n",
    "if __name__ == '__main__':\n",
    "    main()"
   ]
  },
  {
   "cell_type": "code",
   "execution_count": 15,
   "id": "527fd5db-c4e7-402a-96a6-f578159a70bb",
   "metadata": {},
   "outputs": [
    {
     "ename": "ImportError",
     "evalue": "cannot import name 'Update' from 'telegram' (C:\\Users\\Feddy\\anaconda3\\Lib\\site-packages\\telegram\\__init__.py)",
     "output_type": "error",
     "traceback": [
      "\u001b[1;31m---------------------------------------------------------------------------\u001b[0m",
      "\u001b[1;31mImportError\u001b[0m                               Traceback (most recent call last)",
      "Cell \u001b[1;32mIn[15], line 2\u001b[0m\n\u001b[0;32m      1\u001b[0m \u001b[38;5;28;01mimport\u001b[39;00m \u001b[38;5;21;01mrequests\u001b[39;00m\n\u001b[1;32m----> 2\u001b[0m \u001b[38;5;28;01mfrom\u001b[39;00m \u001b[38;5;21;01mtelegram\u001b[39;00m \u001b[38;5;28;01mimport\u001b[39;00m Update\n\u001b[0;32m      3\u001b[0m \u001b[38;5;28;01mfrom\u001b[39;00m \u001b[38;5;21;01mtelegram\u001b[39;00m\u001b[38;5;21;01m.\u001b[39;00m\u001b[38;5;21;01mext\u001b[39;00m \u001b[38;5;28;01mimport\u001b[39;00m Updater, CommandHandler, CallbackContext\n\u001b[0;32m      5\u001b[0m \u001b[38;5;66;03m# Telegram botunuzun token'ını buraya ekleyin\u001b[39;00m\n",
      "\u001b[1;31mImportError\u001b[0m: cannot import name 'Update' from 'telegram' (C:\\Users\\Feddy\\anaconda3\\Lib\\site-packages\\telegram\\__init__.py)"
     ]
    }
   ],
   "source": [
    "import requests\n",
    "from telegram import Update\n",
    "from telegram.ext import Updater, CommandHandler, CallbackContext\n",
    "\n",
    "# Telegram botunuzun token'ını buraya ekleyin\n",
    "TOKEN = \"7268436456:AAFXPpiYEAHN319bGrrMkzzYsysnst3i77M\"\n",
    "\n",
    "# CoinCap API endpoint'i\n",
    "API_URL = \"https://api.coincap.io/v2/assets\"\n",
    "\n",
    "def start(update: Update, context: CallbackContext) -> None:\n",
    "    update.message.reply_text('Merhaba! Ben kripto fiyat botuyum. Kullanabileceğiniz komutlar: /price  Kripto Para Kısa Adını yaz')\n",
    "\n",
    "def get_crypto_price(update: Update, context: CallbackContext) -> None:\n",
    "    if not context.args:\n",
    "        update.message.reply_text('Lütfen bir kripto para simgesi belirtin. Örneğin: /price BTC')\n",
    "        return\n",
    "\n",
    "    crypto_symbol = context.args[0].upper()\n",
    "    params = {\n",
    "        'search': crypto_symbol,\n",
    "    }\n",
    "\n",
    "    try:\n",
    "        response = requests.get(API_URL, params=params)\n",
    "        data = response.json()\n",
    "        if 'data' in data and data['data']:\n",
    "            price = data['data'][0]['priceUsd']\n",
    "            update.message.reply_text(f'{crypto_symbol} fiyatı: ${price}')\n",
    "        else:\n",
    "            update.message.reply_text(f'{crypto_symbol} için fiyat bilgisi bulunamadı.')\n",
    "    except Exception as e:\n",
    "        update.message.reply_text(f'Hata: {e}')\n",
    "\n",
    "def main() -> None:\n",
    "    updater = Updater(TOKEN, use_context=True)\n",
    "\n",
    "    dp = updater.dispatcher\n",
    "\n",
    "    dp.add_handler(CommandHandler(\"start\", start))\n",
    "    dp.add_handler(CommandHandler(\"price\", get_crypto_price))\n",
    "\n",
    "    updater.start_polling()\n",
    "\n",
    "    updater.idle()\n",
    "\n",
    "if __name__ == '__main__':\n",
    "    main()"
   ]
  },
  {
   "cell_type": "code",
   "execution_count": null,
   "id": "5465e44d-34b3-465c-9930-dc01f7db5713",
   "metadata": {},
   "outputs": [],
   "source": []
  }
 ],
 "metadata": {
  "kernelspec": {
   "display_name": "Python [conda env:base] *",
   "language": "python",
   "name": "conda-base-py"
  },
  "language_info": {
   "codemirror_mode": {
    "name": "ipython",
    "version": 3
   },
   "file_extension": ".py",
   "mimetype": "text/x-python",
   "name": "python",
   "nbconvert_exporter": "python",
   "pygments_lexer": "ipython3",
   "version": "3.12.7"
  }
 },
 "nbformat": 4,
 "nbformat_minor": 5
}
